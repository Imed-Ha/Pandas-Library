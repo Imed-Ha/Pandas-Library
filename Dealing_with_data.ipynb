{
 "cells": [
  {
   "cell_type": "code",
   "execution_count": null,
   "metadata": {},
   "outputs": [],
   "source": [
    "# This notebook gives some functions of pandas library to deal with raw data. "
   ]
  },
  {
   "attachments": {},
   "cell_type": "markdown",
   "metadata": {},
   "source": [
    "•\tLoad data into a pandas DataFrame"
   ]
  },
  {
   "cell_type": "code",
   "execution_count": 4,
   "metadata": {},
   "outputs": [],
   "source": [
    "import pandas as pd\n",
    "\n",
    "data = {'type_property': ['Apartment', 'House', 'Villa', 'Condo', 'Loft', 'Mansion', 'Chalet', 'Castle', 'Cottage', 'Ranch'],\n",
    "        'parent_names_of_place': ['|Tokyo|Yokohama|Kawasaki|', '|Washington D.C.|New York|Boston|', '|London|Manchester|Birmingham|', '|Cambridge|Oxford|Bristol|', '|Paris|Lyon|Marseille|', '|Madrid|Barcelona|Valencia|', '|Rome|Milan|Naples|', '|Berlin|Hamburg|Munich|', '|Amsterdam|Rotterdam|Utrecht|', '|Sydney|Melbourne|Brisbane|'],\n",
    "        'region': ['Asia', 'North America', 'Europe', 'Europe', 'Europe', 'Europe', 'Europe', 'Europe', 'Europe', 'Australia'],\n",
    "        'latitude-longitude': ['35.6895, 139.6917', '38.9072, -77.0369', '51.5074, -0.1278', '51.7520, -1.2577', '48.8566, 2.3522', '40.4168, -3.7038', '41.9028, 12.4964', '52.5200, 13.4050', '52.3702, 4.8952', '33.8688, 151.2093'],\n",
    "        'area_m2': [100, 200, 300, 400, 500, 600, 700, 800, 900, 1000],\n",
    "        'price_euro': ['€100,000', '€200,000', '€300,000', '€400,000', '€500,000', '€600,000', '€700,000', '€800,000', '€900,000', '€1,000,000']}\n",
    "\n",
    "df = pd.DataFrame(data)"
   ]
  },
  {
   "cell_type": "code",
   "execution_count": 5,
   "metadata": {},
   "outputs": [
    {
     "data": {
      "text/html": [
       "<div>\n",
       "<style scoped>\n",
       "    .dataframe tbody tr th:only-of-type {\n",
       "        vertical-align: middle;\n",
       "    }\n",
       "\n",
       "    .dataframe tbody tr th {\n",
       "        vertical-align: top;\n",
       "    }\n",
       "\n",
       "    .dataframe thead th {\n",
       "        text-align: right;\n",
       "    }\n",
       "</style>\n",
       "<table border=\"1\" class=\"dataframe\">\n",
       "  <thead>\n",
       "    <tr style=\"text-align: right;\">\n",
       "      <th></th>\n",
       "      <th>type_property</th>\n",
       "      <th>parent_names_of_place</th>\n",
       "      <th>region</th>\n",
       "      <th>latitude-longitude</th>\n",
       "      <th>area_m2</th>\n",
       "      <th>price_euro</th>\n",
       "    </tr>\n",
       "  </thead>\n",
       "  <tbody>\n",
       "    <tr>\n",
       "      <th>0</th>\n",
       "      <td>Apartment</td>\n",
       "      <td>|Tokyo|Yokohama|Kawasaki|</td>\n",
       "      <td>Asia</td>\n",
       "      <td>35.6895, 139.6917</td>\n",
       "      <td>100</td>\n",
       "      <td>€100,000</td>\n",
       "    </tr>\n",
       "    <tr>\n",
       "      <th>1</th>\n",
       "      <td>House</td>\n",
       "      <td>|Washington D.C.|New York|Boston|</td>\n",
       "      <td>North America</td>\n",
       "      <td>38.9072, -77.0369</td>\n",
       "      <td>200</td>\n",
       "      <td>€200,000</td>\n",
       "    </tr>\n",
       "    <tr>\n",
       "      <th>2</th>\n",
       "      <td>Villa</td>\n",
       "      <td>|London|Manchester|Birmingham|</td>\n",
       "      <td>Europe</td>\n",
       "      <td>51.5074, -0.1278</td>\n",
       "      <td>300</td>\n",
       "      <td>€300,000</td>\n",
       "    </tr>\n",
       "    <tr>\n",
       "      <th>3</th>\n",
       "      <td>Condo</td>\n",
       "      <td>|Cambridge|Oxford|Bristol|</td>\n",
       "      <td>Europe</td>\n",
       "      <td>51.7520, -1.2577</td>\n",
       "      <td>400</td>\n",
       "      <td>€400,000</td>\n",
       "    </tr>\n",
       "    <tr>\n",
       "      <th>4</th>\n",
       "      <td>Loft</td>\n",
       "      <td>|Paris|Lyon|Marseille|</td>\n",
       "      <td>Europe</td>\n",
       "      <td>48.8566, 2.3522</td>\n",
       "      <td>500</td>\n",
       "      <td>€500,000</td>\n",
       "    </tr>\n",
       "  </tbody>\n",
       "</table>\n",
       "</div>"
      ],
      "text/plain": [
       "  type_property              parent_names_of_place         region  \\\n",
       "0     Apartment          |Tokyo|Yokohama|Kawasaki|           Asia   \n",
       "1         House  |Washington D.C.|New York|Boston|  North America   \n",
       "2         Villa     |London|Manchester|Birmingham|         Europe   \n",
       "3         Condo         |Cambridge|Oxford|Bristol|         Europe   \n",
       "4          Loft             |Paris|Lyon|Marseille|         Europe   \n",
       "\n",
       "  latitude-longitude  area_m2 price_euro  \n",
       "0  35.6895, 139.6917      100   €100,000  \n",
       "1  38.9072, -77.0369      200   €200,000  \n",
       "2   51.5074, -0.1278      300   €300,000  \n",
       "3   51.7520, -1.2577      400   €400,000  \n",
       "4    48.8566, 2.3522      500   €500,000  "
      ]
     },
     "execution_count": 5,
     "metadata": {},
     "output_type": "execute_result"
    }
   ],
   "source": [
    "df.head()"
   ]
  },
  {
   "cell_type": "code",
   "execution_count": 6,
   "metadata": {},
   "outputs": [
    {
     "name": "stdout",
     "output_type": "stream",
     "text": [
      "<class 'pandas.core.frame.DataFrame'>\n",
      "RangeIndex: 10 entries, 0 to 9\n",
      "Data columns (total 6 columns):\n",
      " #   Column                 Non-Null Count  Dtype \n",
      "---  ------                 --------------  ----- \n",
      " 0   type_property          10 non-null     object\n",
      " 1   parent_names_of_place  10 non-null     object\n",
      " 2   region                 10 non-null     object\n",
      " 3   latitude-longitude     10 non-null     object\n",
      " 4   area_m2                10 non-null     int64 \n",
      " 5   price_euro             10 non-null     object\n",
      "dtypes: int64(1), object(5)\n",
      "memory usage: 608.0+ bytes\n"
     ]
    }
   ],
   "source": [
    "df.info()"
   ]
  },
  {
   "cell_type": "code",
   "execution_count": 7,
   "metadata": {},
   "outputs": [
    {
     "name": "stdout",
     "output_type": "stream",
     "text": [
      "<class 'pandas.core.frame.DataFrame'>\n",
      "RangeIndex: 10 entries, 0 to 9\n",
      "Data columns (total 6 columns):\n",
      " #   Column                 Non-Null Count  Dtype \n",
      "---  ------                 --------------  ----- \n",
      " 0   type_property          10 non-null     object\n",
      " 1   parent_names_of_place  10 non-null     object\n",
      " 2   region                 10 non-null     object\n",
      " 3   latitude-longitude     10 non-null     object\n",
      " 4   area_m2                10 non-null     int64 \n",
      " 5   price_euro             10 non-null     object\n",
      "dtypes: int64(1), object(5)\n",
      "memory usage: 608.0+ bytes\n"
     ]
    }
   ],
   "source": [
    "# Verify missing data\n",
    "df.dropna(inplace=True)\n",
    "df.info()"
   ]
  },
  {
   "cell_type": "code",
   "execution_count": 8,
   "metadata": {},
   "outputs": [
    {
     "data": {
      "text/html": [
       "<div>\n",
       "<style scoped>\n",
       "    .dataframe tbody tr th:only-of-type {\n",
       "        vertical-align: middle;\n",
       "    }\n",
       "\n",
       "    .dataframe tbody tr th {\n",
       "        vertical-align: top;\n",
       "    }\n",
       "\n",
       "    .dataframe thead th {\n",
       "        text-align: right;\n",
       "    }\n",
       "</style>\n",
       "<table border=\"1\" class=\"dataframe\">\n",
       "  <thead>\n",
       "    <tr style=\"text-align: right;\">\n",
       "      <th></th>\n",
       "      <th>type_property</th>\n",
       "      <th>parent_names_of_place</th>\n",
       "      <th>region</th>\n",
       "      <th>latitude-longitude</th>\n",
       "      <th>area_m2</th>\n",
       "      <th>price_euro</th>\n",
       "      <th>latitude</th>\n",
       "      <th>longitude</th>\n",
       "    </tr>\n",
       "  </thead>\n",
       "  <tbody>\n",
       "    <tr>\n",
       "      <th>0</th>\n",
       "      <td>Apartment</td>\n",
       "      <td>|Tokyo|Yokohama|Kawasaki|</td>\n",
       "      <td>Asia</td>\n",
       "      <td>35.6895, 139.6917</td>\n",
       "      <td>100</td>\n",
       "      <td>€100,000</td>\n",
       "      <td>35.6895</td>\n",
       "      <td>139.6917</td>\n",
       "    </tr>\n",
       "    <tr>\n",
       "      <th>1</th>\n",
       "      <td>House</td>\n",
       "      <td>|Washington D.C.|New York|Boston|</td>\n",
       "      <td>North America</td>\n",
       "      <td>38.9072, -77.0369</td>\n",
       "      <td>200</td>\n",
       "      <td>€200,000</td>\n",
       "      <td>38.9072</td>\n",
       "      <td>-77.0369</td>\n",
       "    </tr>\n",
       "    <tr>\n",
       "      <th>2</th>\n",
       "      <td>Villa</td>\n",
       "      <td>|London|Manchester|Birmingham|</td>\n",
       "      <td>Europe</td>\n",
       "      <td>51.5074, -0.1278</td>\n",
       "      <td>300</td>\n",
       "      <td>€300,000</td>\n",
       "      <td>51.5074</td>\n",
       "      <td>-0.1278</td>\n",
       "    </tr>\n",
       "    <tr>\n",
       "      <th>3</th>\n",
       "      <td>Condo</td>\n",
       "      <td>|Cambridge|Oxford|Bristol|</td>\n",
       "      <td>Europe</td>\n",
       "      <td>51.7520, -1.2577</td>\n",
       "      <td>400</td>\n",
       "      <td>€400,000</td>\n",
       "      <td>51.7520</td>\n",
       "      <td>-1.2577</td>\n",
       "    </tr>\n",
       "    <tr>\n",
       "      <th>4</th>\n",
       "      <td>Loft</td>\n",
       "      <td>|Paris|Lyon|Marseille|</td>\n",
       "      <td>Europe</td>\n",
       "      <td>48.8566, 2.3522</td>\n",
       "      <td>500</td>\n",
       "      <td>€500,000</td>\n",
       "      <td>48.8566</td>\n",
       "      <td>2.3522</td>\n",
       "    </tr>\n",
       "  </tbody>\n",
       "</table>\n",
       "</div>"
      ],
      "text/plain": [
       "  type_property              parent_names_of_place         region  \\\n",
       "0     Apartment          |Tokyo|Yokohama|Kawasaki|           Asia   \n",
       "1         House  |Washington D.C.|New York|Boston|  North America   \n",
       "2         Villa     |London|Manchester|Birmingham|         Europe   \n",
       "3         Condo         |Cambridge|Oxford|Bristol|         Europe   \n",
       "4          Loft             |Paris|Lyon|Marseille|         Europe   \n",
       "\n",
       "  latitude-longitude  area_m2 price_euro  latitude  longitude  \n",
       "0  35.6895, 139.6917      100   €100,000   35.6895   139.6917  \n",
       "1  38.9072, -77.0369      200   €200,000   38.9072   -77.0369  \n",
       "2   51.5074, -0.1278      300   €300,000   51.5074    -0.1278  \n",
       "3   51.7520, -1.2577      400   €400,000   51.7520    -1.2577  \n",
       "4    48.8566, 2.3522      500   €500,000   48.8566     2.3522  "
      ]
     },
     "execution_count": 8,
     "metadata": {},
     "output_type": "execute_result"
    }
   ],
   "source": [
    "# divide the latitude-longitude column into 2 columns\n",
    "df[[\"latitude\",\"longitude\"]] = df[\"latitude-longitude\"].str.split(\",\", expand=True).astype(float)\n",
    "df.head()"
   ]
  },
  {
   "cell_type": "code",
   "execution_count": 9,
   "metadata": {},
   "outputs": [
    {
     "data": {
      "text/plain": [
       "0      Kawasaki\n",
       "1        Boston\n",
       "2    Birmingham\n",
       "3       Bristol\n",
       "4     Marseille\n",
       "5      Valencia\n",
       "6        Naples\n",
       "7        Munich\n",
       "8       Utrecht\n",
       "9      Brisbane\n",
       "Name: state, dtype: object"
      ]
     },
     "execution_count": 9,
     "metadata": {},
     "output_type": "execute_result"
    }
   ],
   "source": [
    "# getting the state from parent_names_of_place\n",
    "df[\"state\"] = df[\"parent_names_of_place\"].str.split(\"|\", expand=True)[3]\n",
    "df[\"state\"]"
   ]
  },
  {
   "cell_type": "code",
   "execution_count": 10,
   "metadata": {},
   "outputs": [],
   "source": [
    "# Transform object to float\n",
    "df['price_euro'] = (\n",
    "    df['price_euro']\n",
    "    .str.replace(\"€\",\"\",regex=False)\n",
    "    .str.replace(\",\",\"\")\n",
    "    .astype(float)\n",
    ")"
   ]
  },
  {
   "cell_type": "code",
   "execution_count": 11,
   "metadata": {},
   "outputs": [
    {
     "data": {
      "text/html": [
       "<div>\n",
       "<style scoped>\n",
       "    .dataframe tbody tr th:only-of-type {\n",
       "        vertical-align: middle;\n",
       "    }\n",
       "\n",
       "    .dataframe tbody tr th {\n",
       "        vertical-align: top;\n",
       "    }\n",
       "\n",
       "    .dataframe thead th {\n",
       "        text-align: right;\n",
       "    }\n",
       "</style>\n",
       "<table border=\"1\" class=\"dataframe\">\n",
       "  <thead>\n",
       "    <tr style=\"text-align: right;\">\n",
       "      <th></th>\n",
       "      <th>type_property</th>\n",
       "      <th>region</th>\n",
       "      <th>area_m2</th>\n",
       "      <th>price_euro</th>\n",
       "      <th>latitude</th>\n",
       "      <th>longitude</th>\n",
       "      <th>state</th>\n",
       "    </tr>\n",
       "  </thead>\n",
       "  <tbody>\n",
       "    <tr>\n",
       "      <th>0</th>\n",
       "      <td>Apartment</td>\n",
       "      <td>Asia</td>\n",
       "      <td>100</td>\n",
       "      <td>100000.0</td>\n",
       "      <td>35.6895</td>\n",
       "      <td>139.6917</td>\n",
       "      <td>Kawasaki</td>\n",
       "    </tr>\n",
       "    <tr>\n",
       "      <th>1</th>\n",
       "      <td>House</td>\n",
       "      <td>North America</td>\n",
       "      <td>200</td>\n",
       "      <td>200000.0</td>\n",
       "      <td>38.9072</td>\n",
       "      <td>-77.0369</td>\n",
       "      <td>Boston</td>\n",
       "    </tr>\n",
       "    <tr>\n",
       "      <th>2</th>\n",
       "      <td>Villa</td>\n",
       "      <td>Europe</td>\n",
       "      <td>300</td>\n",
       "      <td>300000.0</td>\n",
       "      <td>51.5074</td>\n",
       "      <td>-0.1278</td>\n",
       "      <td>Birmingham</td>\n",
       "    </tr>\n",
       "    <tr>\n",
       "      <th>3</th>\n",
       "      <td>Condo</td>\n",
       "      <td>Europe</td>\n",
       "      <td>400</td>\n",
       "      <td>400000.0</td>\n",
       "      <td>51.7520</td>\n",
       "      <td>-1.2577</td>\n",
       "      <td>Bristol</td>\n",
       "    </tr>\n",
       "    <tr>\n",
       "      <th>4</th>\n",
       "      <td>Loft</td>\n",
       "      <td>Europe</td>\n",
       "      <td>500</td>\n",
       "      <td>500000.0</td>\n",
       "      <td>48.8566</td>\n",
       "      <td>2.3522</td>\n",
       "      <td>Marseille</td>\n",
       "    </tr>\n",
       "  </tbody>\n",
       "</table>\n",
       "</div>"
      ],
      "text/plain": [
       "  type_property         region  area_m2  price_euro  latitude  longitude  \\\n",
       "0     Apartment           Asia      100    100000.0   35.6895   139.6917   \n",
       "1         House  North America      200    200000.0   38.9072   -77.0369   \n",
       "2         Villa         Europe      300    300000.0   51.5074    -0.1278   \n",
       "3         Condo         Europe      400    400000.0   51.7520    -1.2577   \n",
       "4          Loft         Europe      500    500000.0   48.8566     2.3522   \n",
       "\n",
       "        state  \n",
       "0    Kawasaki  \n",
       "1      Boston  \n",
       "2  Birmingham  \n",
       "3     Bristol  \n",
       "4   Marseille  "
      ]
     },
     "execution_count": 11,
     "metadata": {},
     "output_type": "execute_result"
    }
   ],
   "source": [
    "# removing non-relevant columns from the dataframe\n",
    "df.drop(columns=['parent_names_of_place','latitude-longitude'], inplace=True)\n",
    "df.head()"
   ]
  },
  {
   "cell_type": "code",
   "execution_count": 12,
   "metadata": {},
   "outputs": [],
   "source": [
    "# upgrade the prices\n",
    "df[\"price_euro\"] = (df[\"price_euro\"]*3.19).round(2)"
   ]
  },
  {
   "attachments": {},
   "cell_type": "markdown",
   "metadata": {},
   "source": [
    "Visualize the data after processing"
   ]
  },
  {
   "cell_type": "code",
   "execution_count": 13,
   "metadata": {},
   "outputs": [
    {
     "data": {
      "image/png": "[encoded data removed]",
      "text/plain": [
       "<Figure size 432x288 with 1 Axes>"
      ]
     },
     "metadata": {
      "needs_background": "light"
     },
     "output_type": "display_data"
    }
   ],
   "source": [
    "import matplotlib.pyplot as plt\n",
    "import pandas as pd\n",
    "\n",
    "plt.scatter(df['latitude'], df['longitude'])\n",
    "plt.axhline(y=3, color='red', linestyle='-')\n",
    "plt.xlabel('longitude')\n",
    "plt.ylabel('longitude')\n",
    "plt.title('Scatter plot of X and Y')\n",
    "plt.show()\n"
   ]
  },
  {
   "cell_type": "code",
   "execution_count": 18,
   "metadata": {},
   "outputs": [
    {
     "name": "stdout",
     "output_type": "stream",
     "text": [
      "<class 'pandas.core.series.Series'>\n",
      "RangeIndex: 10 entries, 0 to 9\n",
      "Series name: price_euro\n",
      "Non-Null Count  Dtype  \n",
      "--------------  -----  \n",
      "10 non-null     float64\n",
      "dtypes: float64(1)\n",
      "memory usage: 208.0 bytes\n"
     ]
    }
   ],
   "source": [
    "df['price_euro'].info()"
   ]
  },
  {
   "cell_type": "code",
   "execution_count": 22,
   "metadata": {},
   "outputs": [
    {
     "data": {
      "image/png": "[encoded data removed]",
      "text/plain": [
       "<Figure size 432x288 with 1 Axes>"
      ]
     },
     "metadata": {
      "needs_background": "light"
     },
     "output_type": "display_data"
    }
   ],
   "source": [
    "# Build histogram\n",
    "plt.hist(df['price_euro']);\n",
    "\n",
    "# Label axes\n",
    "plt.xlabel('Price [euro]');\n",
    "plt.ylabel('Frequency');\n",
    "\n",
    "# Add title\n",
    "plt.title('Distribution of Home Prices');\n",
    "\n",
    "# Don't change the code below 👇\n",
    "plt.savefig(\"images/hist.png\", dpi=150)"
   ]
  },
  {
   "cell_type": "code",
   "execution_count": 21,
   "metadata": {},
   "outputs": [
    {
     "data": {
      "image/png": "[encoded data removed]",
      "text/plain": [
       "<Figure size 432x288 with 1 Axes>"
      ]
     },
     "metadata": {
      "needs_background": "light"
     },
     "output_type": "display_data"
    }
   ],
   "source": [
    "# Build box plot\n",
    "plt.boxplot(df['area_m2'], vert=False);\n",
    "# Label axes\n",
    "plt.xlabel('Area [sq meters]');\n",
    "plt.ylabel('Frequency');\n",
    "# Add title\n",
    "plt.title('Distribution of Home Sizes');\n",
    "\n",
    "\n",
    "# Don't change the code below 👇\n",
    "plt.savefig(\"images/boxplot.png\", dpi=150)"
   ]
  },
  {
   "cell_type": "code",
   "execution_count": 24,
   "metadata": {},
   "outputs": [
    {
     "data": {
      "text/plain": [
       "0     319000.0\n",
       "1     638000.0\n",
       "2     957000.0\n",
       "3    1276000.0\n",
       "4    1595000.0\n",
       "5    1914000.0\n",
       "6    2233000.0\n",
       "7    2552000.0\n",
       "8    2871000.0\n",
       "9    3190000.0\n",
       "Name: price_euro, dtype: float64"
      ]
     },
     "execution_count": 24,
     "metadata": {},
     "output_type": "execute_result"
    }
   ],
   "source": [
    "df['price_euro']"
   ]
  },
  {
   "cell_type": "code",
   "execution_count": 25,
   "metadata": {},
   "outputs": [
    {
     "data": {
      "text/plain": [
       "region\n",
       "Asia              319000.0\n",
       "North America     638000.0\n",
       "Europe           1914000.0\n",
       "Australia        3190000.0\n",
       "Name: price_euro, dtype: float64"
      ]
     },
     "execution_count": 25,
     "metadata": {},
     "output_type": "execute_result"
    }
   ],
   "source": [
    "# The following code is to calculate the mean price by region\n",
    "mean_price_by_region = df.groupby(\"region\")[\"price_euro\"].mean().sort_values()\n",
    "mean_price_by_region"
   ]
  },
  {
   "cell_type": "code",
   "execution_count": 26,
   "metadata": {},
   "outputs": [
    {
     "data": {
      "image/png": "[encoded data removed]",
      "text/plain": [
       "<Figure size 432x288 with 1 Axes>"
      ]
     },
     "metadata": {
      "needs_background": "light"
     },
     "output_type": "display_data"
    }
   ],
   "source": [
    "# The following code is for visualizing data using Barchart\n",
    "# Build bar chart, label axes, add title\n",
    "mean_price_by_region.plot(kind='bar',xlabel=\"region\",ylabel=\"Mean Price [EURO]\", title='Mean Home Price by Region')\n",
    "# Don't change the code below 👇\n",
    "plt.savefig(\"images/barchart.png\", dpi=150)"
   ]
  },
  {
   "cell_type": "code",
   "execution_count": 27,
   "metadata": {},
   "outputs": [
    {
     "data": {
      "text/html": [
       "<div>\n",
       "<style scoped>\n",
       "    .dataframe tbody tr th:only-of-type {\n",
       "        vertical-align: middle;\n",
       "    }\n",
       "\n",
       "    .dataframe tbody tr th {\n",
       "        vertical-align: top;\n",
       "    }\n",
       "\n",
       "    .dataframe thead th {\n",
       "        text-align: right;\n",
       "    }\n",
       "</style>\n",
       "<table border=\"1\" class=\"dataframe\">\n",
       "  <thead>\n",
       "    <tr style=\"text-align: right;\">\n",
       "      <th></th>\n",
       "      <th>type_property</th>\n",
       "      <th>region</th>\n",
       "      <th>area_m2</th>\n",
       "      <th>price_euro</th>\n",
       "      <th>latitude</th>\n",
       "      <th>longitude</th>\n",
       "      <th>state</th>\n",
       "    </tr>\n",
       "  </thead>\n",
       "  <tbody>\n",
       "    <tr>\n",
       "      <th>2</th>\n",
       "      <td>Villa</td>\n",
       "      <td>Europe</td>\n",
       "      <td>300</td>\n",
       "      <td>957000.0</td>\n",
       "      <td>51.5074</td>\n",
       "      <td>-0.1278</td>\n",
       "      <td>Birmingham</td>\n",
       "    </tr>\n",
       "    <tr>\n",
       "      <th>3</th>\n",
       "      <td>Condo</td>\n",
       "      <td>Europe</td>\n",
       "      <td>400</td>\n",
       "      <td>1276000.0</td>\n",
       "      <td>51.7520</td>\n",
       "      <td>-1.2577</td>\n",
       "      <td>Bristol</td>\n",
       "    </tr>\n",
       "    <tr>\n",
       "      <th>4</th>\n",
       "      <td>Loft</td>\n",
       "      <td>Europe</td>\n",
       "      <td>500</td>\n",
       "      <td>1595000.0</td>\n",
       "      <td>48.8566</td>\n",
       "      <td>2.3522</td>\n",
       "      <td>Marseille</td>\n",
       "    </tr>\n",
       "    <tr>\n",
       "      <th>5</th>\n",
       "      <td>Mansion</td>\n",
       "      <td>Europe</td>\n",
       "      <td>600</td>\n",
       "      <td>1914000.0</td>\n",
       "      <td>40.4168</td>\n",
       "      <td>-3.7038</td>\n",
       "      <td>Valencia</td>\n",
       "    </tr>\n",
       "    <tr>\n",
       "      <th>6</th>\n",
       "      <td>Chalet</td>\n",
       "      <td>Europe</td>\n",
       "      <td>700</td>\n",
       "      <td>2233000.0</td>\n",
       "      <td>41.9028</td>\n",
       "      <td>12.4964</td>\n",
       "      <td>Naples</td>\n",
       "    </tr>\n",
       "  </tbody>\n",
       "</table>\n",
       "</div>"
      ],
      "text/plain": [
       "  type_property  region  area_m2  price_euro  latitude  longitude       state\n",
       "2         Villa  Europe      300    957000.0   51.5074    -0.1278  Birmingham\n",
       "3         Condo  Europe      400   1276000.0   51.7520    -1.2577     Bristol\n",
       "4          Loft  Europe      500   1595000.0   48.8566     2.3522   Marseille\n",
       "5       Mansion  Europe      600   1914000.0   40.4168    -3.7038    Valencia\n",
       "6        Chalet  Europe      700   2233000.0   41.9028    12.4964      Naples"
      ]
     },
     "execution_count": 27,
     "metadata": {},
     "output_type": "execute_result"
    }
   ],
   "source": [
    "# The following code is for creating a new dataframe containing only the values of the European regions. \n",
    "df_Europe = df[df['region'] == 'Europe']\n",
    "df_Europe.head()"
   ]
  },
  {
   "cell_type": "code",
   "execution_count": 30,
   "metadata": {},
   "outputs": [
    {
     "data": {
      "text/plain": [
       "Birmingham    1\n",
       "Bristol       1\n",
       "Marseille     1\n",
       "Valencia      1\n",
       "Naples        1\n",
       "Munich        1\n",
       "Utrecht       1\n",
       "Name: state, dtype: int64"
      ]
     },
     "execution_count": 30,
     "metadata": {},
     "output_type": "execute_result"
    }
   ],
   "source": [
    "# The following code gives the number of values for each state.\n",
    "homes_by_state = df_Europe['state'].value_counts()\n",
    "homes_by_state"
   ]
  },
  {
   "cell_type": "code",
   "execution_count": 33,
   "metadata": {},
   "outputs": [
    {
     "data": {
      "image/png": "[encoded data removed]",
      "text/plain": [
       "<Figure size 432x288 with 1 Axes>"
      ]
     },
     "metadata": {
      "needs_background": "light"
     },
     "output_type": "display_data"
    }
   ],
   "source": [
    "# Subset data\n",
    "df_south_rgs = df_Europe\n",
    "\n",
    "# Label axes\n",
    "plt.scatter(x=df_south_rgs['area_m2'],y=df_south_rgs['price_euro'])\n",
    "plt.xlabel('Area');\n",
    "plt.ylabel('Price');\n",
    "\n",
    "# Add title\n",
    "plt.title(\"Price vs. Area\")\n",
    "\n",
    "# Don't change the code below 👇\n",
    "plt.savefig(\"images/scatter.png\", dpi=150)"
   ]
  },
  {
   "cell_type": "code",
   "execution_count": 35,
   "metadata": {},
   "outputs": [
    {
     "data": {
      "text/plain": [
       "1.0"
      ]
     },
     "execution_count": 35,
     "metadata": {},
     "output_type": "execute_result"
    }
   ],
   "source": [
    "# The following code gives the correlation between two variables.\n",
    "south_states_corr = df_south_rgs['area_m2'].corr(df_south_rgs['price_euro'])\n",
    "south_states_corr"
   ]
  }
 ],
 "metadata": {
  "kernelspec": {
   "display_name": "Python 3",
   "language": "python",
   "name": "python3"
  },
  "language_info": {
   "codemirror_mode": {
    "name": "ipython",
    "version": 3
   },
   "file_extension": ".py",
   "mimetype": "text/x-python",
   "name": "python",
   "nbconvert_exporter": "python",
   "pygments_lexer": "ipython3",
   "version": "3.10.2"
  },
  "orig_nbformat": 4,
  "vscode": {
   "interpreter": {
    "hash": "ef886145d35e4e7d28b8b544ea62a29d1cfe346a0e8ba75927ba691bc98a4767"
   }
  }
 },
 "nbformat": 4,
 "nbformat_minor": 2
}
