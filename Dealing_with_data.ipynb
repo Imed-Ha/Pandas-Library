{
 "cells": [
  {
   "cell_type": "code",
   "execution_count": null,
   "metadata": {},
   "outputs": [],
   "source": [
    "# This notebook gives some functions of pandas library to deal with raw data. "
   ]
  },
  {
   "attachments": {},
   "cell_type": "markdown",
   "metadata": {},
   "source": [
    "•\tLoad data into a pandas DataFrame"
   ]
  },
  {
   "cell_type": "code",
   "execution_count": 3,
   "metadata": {},
   "outputs": [],
   "source": [
    "import pandas as pd\n",
    "\n",
    "data = {'type_property': ['Apartment', 'House', 'Villa', 'Condo', 'Loft', 'Mansion', 'Chalet', 'Castle', 'Cottage', 'Ranch'],\n",
    "        'parent_names_of_place': ['|Tokyo|Yokohama|Kawasaki|', '|Washington D.C.|New York|Boston|', '|London|Manchester|Birmingham|', '|Cambridge|Oxford|Bristol|', '|Paris|Lyon|Marseille|', '|Madrid|Barcelona|Valencia|', '|Rome|Milan|Naples|', '|Berlin|Hamburg|Munich|', '|Amsterdam|Rotterdam|Utrecht|', '|Sydney|Melbourne|Brisbane|'],\n",
    "        'region': ['Asia', 'North America', 'Europe', 'Europe', 'Europe', 'Europe', 'Europe', 'Europe', 'Europe', 'Australia'],\n",
    "        'latitude-longitude': ['35.6895, 139.6917', '38.9072, -77.0369', '51.5074, -0.1278', '51.7520, -1.2577', '48.8566, 2.3522', '40.4168, -3.7038', '41.9028, 12.4964', '52.5200, 13.4050', '52.3702, 4.8952', '33.8688, 151.2093'],\n",
    "        'area_m2': [100, 200, 300, 400, 500, 600, 700, 800, 900, 1000],\n",
    "        'price_euro': ['€100,000', '€200,000', '€300,000', '€400,000', '€500,000', '€600,000', '€700,000', '€800,000', '€900,000', '€1,000,000']}\n",
    "\n",
    "df = pd.DataFrame(data)"
   ]
  },
  {
   "cell_type": "code",
   "execution_count": 5,
   "metadata": {},
   "outputs": [
    {
     "data": {
      "text/html": [
       "<div>\n",
       "<style scoped>\n",
       "    .dataframe tbody tr th:only-of-type {\n",
       "        vertical-align: middle;\n",
       "    }\n",
       "\n",
       "    .dataframe tbody tr th {\n",
       "        vertical-align: top;\n",
       "    }\n",
       "\n",
       "    .dataframe thead th {\n",
       "        text-align: right;\n",
       "    }\n",
       "</style>\n",
       "<table border=\"1\" class=\"dataframe\">\n",
       "  <thead>\n",
       "    <tr style=\"text-align: right;\">\n",
       "      <th></th>\n",
       "      <th>type_property</th>\n",
       "      <th>parent_names_of_place</th>\n",
       "      <th>region</th>\n",
       "      <th>latitude-longitude</th>\n",
       "      <th>area_m2</th>\n",
       "      <th>price_euro</th>\n",
       "    </tr>\n",
       "  </thead>\n",
       "  <tbody>\n",
       "    <tr>\n",
       "      <th>0</th>\n",
       "      <td>Apartment</td>\n",
       "      <td>|Tokyo|Yokohama|Kawasaki|</td>\n",
       "      <td>Asia</td>\n",
       "      <td>35.6895, 139.6917</td>\n",
       "      <td>100</td>\n",
       "      <td>€100,000</td>\n",
       "    </tr>\n",
       "    <tr>\n",
       "      <th>1</th>\n",
       "      <td>House</td>\n",
       "      <td>|Washington D.C.|New York|Boston|</td>\n",
       "      <td>North America</td>\n",
       "      <td>38.9072, -77.0369</td>\n",
       "      <td>200</td>\n",
       "      <td>€200,000</td>\n",
       "    </tr>\n",
       "    <tr>\n",
       "      <th>2</th>\n",
       "      <td>Villa</td>\n",
       "      <td>|London|Manchester|Birmingham|</td>\n",
       "      <td>Europe</td>\n",
       "      <td>51.5074, -0.1278</td>\n",
       "      <td>300</td>\n",
       "      <td>€300,000</td>\n",
       "    </tr>\n",
       "    <tr>\n",
       "      <th>3</th>\n",
       "      <td>Condo</td>\n",
       "      <td>|Cambridge|Oxford|Bristol|</td>\n",
       "      <td>Europe</td>\n",
       "      <td>51.7520, -1.2577</td>\n",
       "      <td>400</td>\n",
       "      <td>€400,000</td>\n",
       "    </tr>\n",
       "    <tr>\n",
       "      <th>4</th>\n",
       "      <td>Loft</td>\n",
       "      <td>|Paris|Lyon|Marseille|</td>\n",
       "      <td>Europe</td>\n",
       "      <td>48.8566, 2.3522</td>\n",
       "      <td>500</td>\n",
       "      <td>€500,000</td>\n",
       "    </tr>\n",
       "  </tbody>\n",
       "</table>\n",
       "</div>"
      ],
      "text/plain": [
       "  type_property              parent_names_of_place         region  \\\n",
       "0     Apartment          |Tokyo|Yokohama|Kawasaki|           Asia   \n",
       "1         House  |Washington D.C.|New York|Boston|  North America   \n",
       "2         Villa     |London|Manchester|Birmingham|         Europe   \n",
       "3         Condo         |Cambridge|Oxford|Bristol|         Europe   \n",
       "4          Loft             |Paris|Lyon|Marseille|         Europe   \n",
       "\n",
       "  latitude-longitude  area_m2 price_euro  \n",
       "0  35.6895, 139.6917      100   €100,000  \n",
       "1  38.9072, -77.0369      200   €200,000  \n",
       "2   51.5074, -0.1278      300   €300,000  \n",
       "3   51.7520, -1.2577      400   €400,000  \n",
       "4    48.8566, 2.3522      500   €500,000  "
      ]
     },
     "execution_count": 5,
     "metadata": {},
     "output_type": "execute_result"
    }
   ],
   "source": [
    "df.head()"
   ]
  }
 ],
 "metadata": {
  "kernelspec": {
   "display_name": "Python 3",
   "language": "python",
   "name": "python3"
  },
  "language_info": {
   "codemirror_mode": {
    "name": "ipython",
    "version": 3
   },
   "file_extension": ".py",
   "mimetype": "text/x-python",
   "name": "python",
   "nbconvert_exporter": "python",
   "pygments_lexer": "ipython3",
   "version": "3.10.2"
  },
  "orig_nbformat": 4,
  "vscode": {
   "interpreter": {
    "hash": "ef886145d35e4e7d28b8b544ea62a29d1cfe346a0e8ba75927ba691bc98a4767"
   }
  }
 },
 "nbformat": 4,
 "nbformat_minor": 2
}
