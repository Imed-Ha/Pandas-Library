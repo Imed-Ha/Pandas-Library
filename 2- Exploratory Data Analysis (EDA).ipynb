{
 "cells": [
  {
   "cell_type": "code",
   "execution_count": null,
   "outputs": [],
   "source": [
    "# EDA is based on two chips in which I going to work\n",
    "# - descriptive statistics\n",
    "# - Types of analysis"
   ],
   "metadata": {
    "collapsed": false
   }
  },
  {
   "cell_type": "code",
   "execution_count": 2,
   "outputs": [],
   "source": [
    "import pandas as pd"
   ],
   "metadata": {
    "collapsed": false
   }
  },
  {
   "cell_type": "code",
   "execution_count": 4,
   "outputs": [],
   "source": [
    "# import the perfect data\n",
    "Eda_data = pd.read_csv('data/df1_data.csv')"
   ],
   "metadata": {
    "collapsed": false
   }
  },
  {
   "cell_type": "code",
   "execution_count": 5,
   "outputs": [
    {
     "data": {
      "text/plain": "       age  married orientation         religion   Q1   Q2   Q3   Q4   Q5  \\\n0       16    Never      Hetero            Other  1.0  7.0  7.0  7.0  7.0   \n1       16    Never   New Types  Christian Other  6.0  4.0  7.0  4.0  7.0   \n2       17    Never        Homo        Christian  2.0  2.0  2.0  6.0  5.0   \n3       13    Never   New Types        Christian  1.0  7.0  4.0  4.0  6.0   \n4       19    Never      Hetero           Muslim  2.0  3.0  6.0  5.0  5.0   \n...    ...      ...         ...              ...  ...  ...  ...  ...  ...   \n39759   21    Never   New Types           Muslim  4.0  5.0  7.0  6.0  4.0   \n39760   48  Married      Hetero  Christian Other  6.0  7.0  5.0  3.0  6.0   \n39761   20    Never      Hetero       Protestant  1.0  5.0  7.0  5.0  3.0   \n39762   26    Never      Hetero           Muslim  6.0  3.0  5.0  3.0  5.0   \n39763   26    Never      Hetero           Muslim  6.0  3.0  5.0  3.0  5.0   \n\n        Q6   Q7   Q8   Q9  Q10  Q11  MarriedN  OrientationN  ReligionN  \n0      5.0  1.0  4.0  2.0  4.0  4.0       1.0           1.0        NaN  \n1      7.0  1.0  4.0  2.0  4.0  4.0       1.0           5.0        NaN  \n2      5.0  3.0  3.0  4.0  3.0  4.0       1.0           2.0        NaN  \n3      1.0  6.0  2.0  2.0  2.0  1.0       1.0           5.0        NaN  \n4      6.0  3.0  2.0  3.0  4.0  4.0       1.0           1.0        NaN  \n...    ...  ...  ...  ...  ...  ...       ...           ...        ...  \n39759  7.0  4.0  3.0  3.0  4.0  4.0       1.0           5.0        NaN  \n39760  1.0  5.0  2.0  2.0  1.0  2.0       3.0           1.0        NaN  \n39761  5.0  3.0  3.0  2.0  4.0  4.0       1.0           1.0        NaN  \n39762  5.0  1.0  2.0  2.0  1.0  3.0       1.0           1.0        NaN  \n39763  5.0  1.0  2.0  2.0  1.0  3.0       1.0           1.0        NaN  \n\n[39764 rows x 18 columns]",
      "text/html": "<div>\n<style scoped>\n    .dataframe tbody tr th:only-of-type {\n        vertical-align: middle;\n    }\n\n    .dataframe tbody tr th {\n        vertical-align: top;\n    }\n\n    .dataframe thead th {\n        text-align: right;\n    }\n</style>\n<table border=\"1\" class=\"dataframe\">\n  <thead>\n    <tr style=\"text-align: right;\">\n      <th></th>\n      <th>age</th>\n      <th>married</th>\n      <th>orientation</th>\n      <th>religion</th>\n      <th>Q1</th>\n      <th>Q2</th>\n      <th>Q3</th>\n      <th>Q4</th>\n      <th>Q5</th>\n      <th>Q6</th>\n      <th>Q7</th>\n      <th>Q8</th>\n      <th>Q9</th>\n      <th>Q10</th>\n      <th>Q11</th>\n      <th>MarriedN</th>\n      <th>OrientationN</th>\n      <th>ReligionN</th>\n    </tr>\n  </thead>\n  <tbody>\n    <tr>\n      <th>0</th>\n      <td>16</td>\n      <td>Never</td>\n      <td>Hetero</td>\n      <td>Other</td>\n      <td>1.0</td>\n      <td>7.0</td>\n      <td>7.0</td>\n      <td>7.0</td>\n      <td>7.0</td>\n      <td>5.0</td>\n      <td>1.0</td>\n      <td>4.0</td>\n      <td>2.0</td>\n      <td>4.0</td>\n      <td>4.0</td>\n      <td>1.0</td>\n      <td>1.0</td>\n      <td>NaN</td>\n    </tr>\n    <tr>\n      <th>1</th>\n      <td>16</td>\n      <td>Never</td>\n      <td>New Types</td>\n      <td>Christian Other</td>\n      <td>6.0</td>\n      <td>4.0</td>\n      <td>7.0</td>\n      <td>4.0</td>\n      <td>7.0</td>\n      <td>7.0</td>\n      <td>1.0</td>\n      <td>4.0</td>\n      <td>2.0</td>\n      <td>4.0</td>\n      <td>4.0</td>\n      <td>1.0</td>\n      <td>5.0</td>\n      <td>NaN</td>\n    </tr>\n    <tr>\n      <th>2</th>\n      <td>17</td>\n      <td>Never</td>\n      <td>Homo</td>\n      <td>Christian</td>\n      <td>2.0</td>\n      <td>2.0</td>\n      <td>2.0</td>\n      <td>6.0</td>\n      <td>5.0</td>\n      <td>5.0</td>\n      <td>3.0</td>\n      <td>3.0</td>\n      <td>4.0</td>\n      <td>3.0</td>\n      <td>4.0</td>\n      <td>1.0</td>\n      <td>2.0</td>\n      <td>NaN</td>\n    </tr>\n    <tr>\n      <th>3</th>\n      <td>13</td>\n      <td>Never</td>\n      <td>New Types</td>\n      <td>Christian</td>\n      <td>1.0</td>\n      <td>7.0</td>\n      <td>4.0</td>\n      <td>4.0</td>\n      <td>6.0</td>\n      <td>1.0</td>\n      <td>6.0</td>\n      <td>2.0</td>\n      <td>2.0</td>\n      <td>2.0</td>\n      <td>1.0</td>\n      <td>1.0</td>\n      <td>5.0</td>\n      <td>NaN</td>\n    </tr>\n    <tr>\n      <th>4</th>\n      <td>19</td>\n      <td>Never</td>\n      <td>Hetero</td>\n      <td>Muslim</td>\n      <td>2.0</td>\n      <td>3.0</td>\n      <td>6.0</td>\n      <td>5.0</td>\n      <td>5.0</td>\n      <td>6.0</td>\n      <td>3.0</td>\n      <td>2.0</td>\n      <td>3.0</td>\n      <td>4.0</td>\n      <td>4.0</td>\n      <td>1.0</td>\n      <td>1.0</td>\n      <td>NaN</td>\n    </tr>\n    <tr>\n      <th>...</th>\n      <td>...</td>\n      <td>...</td>\n      <td>...</td>\n      <td>...</td>\n      <td>...</td>\n      <td>...</td>\n      <td>...</td>\n      <td>...</td>\n      <td>...</td>\n      <td>...</td>\n      <td>...</td>\n      <td>...</td>\n      <td>...</td>\n      <td>...</td>\n      <td>...</td>\n      <td>...</td>\n      <td>...</td>\n      <td>...</td>\n    </tr>\n    <tr>\n      <th>39759</th>\n      <td>21</td>\n      <td>Never</td>\n      <td>New Types</td>\n      <td>Muslim</td>\n      <td>4.0</td>\n      <td>5.0</td>\n      <td>7.0</td>\n      <td>6.0</td>\n      <td>4.0</td>\n      <td>7.0</td>\n      <td>4.0</td>\n      <td>3.0</td>\n      <td>3.0</td>\n      <td>4.0</td>\n      <td>4.0</td>\n      <td>1.0</td>\n      <td>5.0</td>\n      <td>NaN</td>\n    </tr>\n    <tr>\n      <th>39760</th>\n      <td>48</td>\n      <td>Married</td>\n      <td>Hetero</td>\n      <td>Christian Other</td>\n      <td>6.0</td>\n      <td>7.0</td>\n      <td>5.0</td>\n      <td>3.0</td>\n      <td>6.0</td>\n      <td>1.0</td>\n      <td>5.0</td>\n      <td>2.0</td>\n      <td>2.0</td>\n      <td>1.0</td>\n      <td>2.0</td>\n      <td>3.0</td>\n      <td>1.0</td>\n      <td>NaN</td>\n    </tr>\n    <tr>\n      <th>39761</th>\n      <td>20</td>\n      <td>Never</td>\n      <td>Hetero</td>\n      <td>Protestant</td>\n      <td>1.0</td>\n      <td>5.0</td>\n      <td>7.0</td>\n      <td>5.0</td>\n      <td>3.0</td>\n      <td>5.0</td>\n      <td>3.0</td>\n      <td>3.0</td>\n      <td>2.0</td>\n      <td>4.0</td>\n      <td>4.0</td>\n      <td>1.0</td>\n      <td>1.0</td>\n      <td>NaN</td>\n    </tr>\n    <tr>\n      <th>39762</th>\n      <td>26</td>\n      <td>Never</td>\n      <td>Hetero</td>\n      <td>Muslim</td>\n      <td>6.0</td>\n      <td>3.0</td>\n      <td>5.0</td>\n      <td>3.0</td>\n      <td>5.0</td>\n      <td>5.0</td>\n      <td>1.0</td>\n      <td>2.0</td>\n      <td>2.0</td>\n      <td>1.0</td>\n      <td>3.0</td>\n      <td>1.0</td>\n      <td>1.0</td>\n      <td>NaN</td>\n    </tr>\n    <tr>\n      <th>39763</th>\n      <td>26</td>\n      <td>Never</td>\n      <td>Hetero</td>\n      <td>Muslim</td>\n      <td>6.0</td>\n      <td>3.0</td>\n      <td>5.0</td>\n      <td>3.0</td>\n      <td>5.0</td>\n      <td>5.0</td>\n      <td>1.0</td>\n      <td>2.0</td>\n      <td>2.0</td>\n      <td>1.0</td>\n      <td>3.0</td>\n      <td>1.0</td>\n      <td>1.0</td>\n      <td>NaN</td>\n    </tr>\n  </tbody>\n</table>\n<p>39764 rows × 18 columns</p>\n</div>"
     },
     "execution_count": 5,
     "metadata": {},
     "output_type": "execute_result"
    }
   ],
   "source": [
    "Eda_data"
   ],
   "metadata": {
    "collapsed": false
   }
  },
  {
   "cell_type": "code",
   "execution_count": null,
   "outputs": [],
   "source": [],
   "metadata": {
    "collapsed": false
   }
  }
 ],
 "metadata": {
  "kernelspec": {
   "display_name": "Python 3",
   "language": "python",
   "name": "python3"
  },
  "language_info": {
   "codemirror_mode": {
    "name": "ipython",
    "version": 2
   },
   "file_extension": ".py",
   "mimetype": "text/x-python",
   "name": "python",
   "nbconvert_exporter": "python",
   "pygments_lexer": "ipython2",
   "version": "2.7.6"
  }
 },
 "nbformat": 4,
 "nbformat_minor": 0
}
